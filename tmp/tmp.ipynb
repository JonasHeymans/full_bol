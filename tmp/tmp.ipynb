{
 "cells": [
  {
   "cell_type": "code",
   "execution_count": 1,
   "outputs": [],
   "source": [
    "import pandas as pd"
   ],
   "metadata": {
    "collapsed": false,
    "pycharm": {
     "name": "#%%\n"
    }
   }
  },
  {
   "cell_type": "code",
   "execution_count": 2,
   "outputs": [],
   "source": [
    "BASE_PATH = 'mainapp/microservice_supplier'\n",
    "attributes_path = f\"{BASE_PATH}/files/bigbuy/feeds/attibutes.json\"\n",
    "attributegroups_path = f\"{BASE_PATH}/files/bigbuy/feeds/attributegroups.json\"\n",
    "variations_path = f\"{BASE_PATH}/files/bigbuy/feeds/variations.json\"\n",
    "products_path = '/Users/peter/PycharmProjects/full_bol/mainapp/microservice_supplier/files/bigbuy/feeds/products/products_01_1661587714.json'"
   ],
   "metadata": {
    "collapsed": false,
    "pycharm": {
     "name": "#%%\n"
    }
   }
  },
  {
   "cell_type": "code",
   "execution_count": 4,
   "outputs": [],
   "source": [
    "df = pd.read_json(products_path)\n",
    "\n"
   ],
   "metadata": {
    "collapsed": false,
    "pycharm": {
     "name": "#%%\n"
    }
   }
  },
  {
   "cell_type": "code",
   "execution_count": 5,
   "outputs": [
    {
     "data": {
      "text/plain": "Index(['manufacturer', 'id', 'sku', 'ean13', 'weight', 'height', 'width',\n       'depth', 'dateUpd', 'category', 'dateUpdDescription', 'dateUpdImages',\n       'dateUpdStock', 'wholesalePrice', 'retailPrice', 'dateAdd', 'video',\n       'active', 'attributes', 'categories', 'images', 'taxRate', 'taxId',\n       'inShopsPrice', 'condition', 'logisticClass', 'tags',\n       'dateUpdProperties', 'dateUpdCategories', 'priceLargeQuantities'],\n      dtype='object')"
     },
     "execution_count": 5,
     "metadata": {},
     "output_type": "execute_result"
    }
   ],
   "source": [
    "df.columns"
   ],
   "metadata": {
    "collapsed": false,
    "pycharm": {
     "name": "#%%\n"
    }
   }
  },
  {
   "cell_type": "code",
   "execution_count": 6,
   "outputs": [
    {
     "data": {
      "text/plain": "       manufacturer             id         ean13        weight        height  \\\ncount  20000.000000   20000.000000  1.845900e+04  20000.000000  20000.000000   \nmean    6743.138850  308745.089100  6.115991e+12      3.247348     23.400554   \nstd     5773.455454   95721.841445  3.057136e+12      9.753651     21.852218   \nmin        1.000000   18975.000000  0.000000e+00      0.000000      0.000000   \n25%     1770.000000  250860.000000  4.008790e+12      0.071000     10.000000   \n50%     3478.000000  372996.000000  8.412688e+12      0.300000     16.700000   \n75%    13493.000000  382387.250000  8.427542e+12      1.535250     31.000000   \nmax    15643.000000  387704.000000  9.999626e+12    178.800000    412.000000   \n\n              width         depth      category  wholesalePrice   retailPrice  \\\ncount  20000.000000  20000.000000  20000.000000    20000.000000  20000.000000   \nmean      23.798239     22.577599   2768.460750       71.031315     78.640613   \nstd       23.098877     25.670310    280.029082      485.411642    521.793563   \nmin        0.000000      0.000000   2216.000000        0.040000    -28.490000   \n25%        8.000000      6.000000   2536.000000        6.420000      7.980000   \n50%       17.271500     12.000000   2709.000000       14.820000     17.765000   \n75%       33.000000     31.000000   2996.000000       38.750000     45.230000   \nmax      250.000000    282.000000   3476.000000    53906.610000  57964.100000   \n\n        active       taxRate         taxId  inShopsPrice  dateUpdCategories  \ncount  20000.0  20000.000000  20000.000000  20000.000000                0.0  \nmean       1.0     20.948300      1.004700    112.814009                NaN  \nstd        0.0      0.752367      0.068397    738.815245                NaN  \nmin        1.0     10.000000      1.000000      0.090000                NaN  \n25%        1.0     21.000000      1.000000     12.800000                NaN  \n50%        1.0     21.000000      1.000000     27.175000                NaN  \n75%        1.0     21.000000      1.000000     69.500000                NaN  \nmax        1.0     21.000000      2.000000  82400.360000                NaN  ",
      "text/html": "<div>\n<style scoped>\n    .dataframe tbody tr th:only-of-type {\n        vertical-align: middle;\n    }\n\n    .dataframe tbody tr th {\n        vertical-align: top;\n    }\n\n    .dataframe thead th {\n        text-align: right;\n    }\n</style>\n<table border=\"1\" class=\"dataframe\">\n  <thead>\n    <tr style=\"text-align: right;\">\n      <th></th>\n      <th>manufacturer</th>\n      <th>id</th>\n      <th>ean13</th>\n      <th>weight</th>\n      <th>height</th>\n      <th>width</th>\n      <th>depth</th>\n      <th>category</th>\n      <th>wholesalePrice</th>\n      <th>retailPrice</th>\n      <th>active</th>\n      <th>taxRate</th>\n      <th>taxId</th>\n      <th>inShopsPrice</th>\n      <th>dateUpdCategories</th>\n    </tr>\n  </thead>\n  <tbody>\n    <tr>\n      <th>count</th>\n      <td>20000.000000</td>\n      <td>20000.000000</td>\n      <td>1.845900e+04</td>\n      <td>20000.000000</td>\n      <td>20000.000000</td>\n      <td>20000.000000</td>\n      <td>20000.000000</td>\n      <td>20000.000000</td>\n      <td>20000.000000</td>\n      <td>20000.000000</td>\n      <td>20000.0</td>\n      <td>20000.000000</td>\n      <td>20000.000000</td>\n      <td>20000.000000</td>\n      <td>0.0</td>\n    </tr>\n    <tr>\n      <th>mean</th>\n      <td>6743.138850</td>\n      <td>308745.089100</td>\n      <td>6.115991e+12</td>\n      <td>3.247348</td>\n      <td>23.400554</td>\n      <td>23.798239</td>\n      <td>22.577599</td>\n      <td>2768.460750</td>\n      <td>71.031315</td>\n      <td>78.640613</td>\n      <td>1.0</td>\n      <td>20.948300</td>\n      <td>1.004700</td>\n      <td>112.814009</td>\n      <td>NaN</td>\n    </tr>\n    <tr>\n      <th>std</th>\n      <td>5773.455454</td>\n      <td>95721.841445</td>\n      <td>3.057136e+12</td>\n      <td>9.753651</td>\n      <td>21.852218</td>\n      <td>23.098877</td>\n      <td>25.670310</td>\n      <td>280.029082</td>\n      <td>485.411642</td>\n      <td>521.793563</td>\n      <td>0.0</td>\n      <td>0.752367</td>\n      <td>0.068397</td>\n      <td>738.815245</td>\n      <td>NaN</td>\n    </tr>\n    <tr>\n      <th>min</th>\n      <td>1.000000</td>\n      <td>18975.000000</td>\n      <td>0.000000e+00</td>\n      <td>0.000000</td>\n      <td>0.000000</td>\n      <td>0.000000</td>\n      <td>0.000000</td>\n      <td>2216.000000</td>\n      <td>0.040000</td>\n      <td>-28.490000</td>\n      <td>1.0</td>\n      <td>10.000000</td>\n      <td>1.000000</td>\n      <td>0.090000</td>\n      <td>NaN</td>\n    </tr>\n    <tr>\n      <th>25%</th>\n      <td>1770.000000</td>\n      <td>250860.000000</td>\n      <td>4.008790e+12</td>\n      <td>0.071000</td>\n      <td>10.000000</td>\n      <td>8.000000</td>\n      <td>6.000000</td>\n      <td>2536.000000</td>\n      <td>6.420000</td>\n      <td>7.980000</td>\n      <td>1.0</td>\n      <td>21.000000</td>\n      <td>1.000000</td>\n      <td>12.800000</td>\n      <td>NaN</td>\n    </tr>\n    <tr>\n      <th>50%</th>\n      <td>3478.000000</td>\n      <td>372996.000000</td>\n      <td>8.412688e+12</td>\n      <td>0.300000</td>\n      <td>16.700000</td>\n      <td>17.271500</td>\n      <td>12.000000</td>\n      <td>2709.000000</td>\n      <td>14.820000</td>\n      <td>17.765000</td>\n      <td>1.0</td>\n      <td>21.000000</td>\n      <td>1.000000</td>\n      <td>27.175000</td>\n      <td>NaN</td>\n    </tr>\n    <tr>\n      <th>75%</th>\n      <td>13493.000000</td>\n      <td>382387.250000</td>\n      <td>8.427542e+12</td>\n      <td>1.535250</td>\n      <td>31.000000</td>\n      <td>33.000000</td>\n      <td>31.000000</td>\n      <td>2996.000000</td>\n      <td>38.750000</td>\n      <td>45.230000</td>\n      <td>1.0</td>\n      <td>21.000000</td>\n      <td>1.000000</td>\n      <td>69.500000</td>\n      <td>NaN</td>\n    </tr>\n    <tr>\n      <th>max</th>\n      <td>15643.000000</td>\n      <td>387704.000000</td>\n      <td>9.999626e+12</td>\n      <td>178.800000</td>\n      <td>412.000000</td>\n      <td>250.000000</td>\n      <td>282.000000</td>\n      <td>3476.000000</td>\n      <td>53906.610000</td>\n      <td>57964.100000</td>\n      <td>1.0</td>\n      <td>21.000000</td>\n      <td>2.000000</td>\n      <td>82400.360000</td>\n      <td>NaN</td>\n    </tr>\n  </tbody>\n</table>\n</div>"
     },
     "execution_count": 6,
     "metadata": {},
     "output_type": "execute_result"
    }
   ],
   "source": [
    "df.describe()"
   ],
   "metadata": {
    "collapsed": false,
    "pycharm": {
     "name": "#%%\n"
    }
   }
  },
  {
   "cell_type": "code",
   "execution_count": null,
   "outputs": [],
   "source": [],
   "metadata": {
    "collapsed": false,
    "pycharm": {
     "name": "#%%\n"
    }
   }
  }
 ],
 "metadata": {
  "kernelspec": {
   "display_name": "Python 3",
   "language": "python",
   "name": "python3"
  },
  "language_info": {
   "codemirror_mode": {
    "name": "ipython",
    "version": 2
   },
   "file_extension": ".py",
   "mimetype": "text/x-python",
   "name": "python",
   "nbconvert_exporter": "python",
   "pygments_lexer": "ipython2",
   "version": "2.7.6"
  }
 },
 "nbformat": 4,
 "nbformat_minor": 0
}