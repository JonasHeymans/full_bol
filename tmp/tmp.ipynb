{
 "cells": [
  {
   "cell_type": "code",
   "execution_count": 26,
   "outputs": [],
   "source": [
    "import pandas as pd"
   ],
   "metadata": {
    "collapsed": false,
    "pycharm": {
     "name": "#%%\n"
    }
   }
  },
  {
   "cell_type": "code",
   "execution_count": 27,
   "outputs": [],
   "source": [
    "BASE_PATH = 'mainapp/microservice_supplier'\n",
    "attributes_path = f\"{BASE_PATH}/files/bigbuy/feeds/attibutes.json\"\n",
    "attributegroups_path = f\"{BASE_PATH}/files/bigbuy/feeds/attributegroups.json\"\n",
    "variations_path = f\"{BASE_PATH}/files/bigbuy/feeds/variations.json\""
   ],
   "metadata": {
    "collapsed": false,
    "pycharm": {
     "name": "#%%\n"
    }
   }
  },
  {
   "cell_type": "code",
   "execution_count": 61,
   "outputs": [],
   "source": [
    "stock_df = pd.read_json('/Users/peter/PycharmProjects/full_bol/mainapp/microservice_supplier/files/bigbuy/feeds/stock.json')"
   ],
   "metadata": {
    "collapsed": false,
    "pycharm": {
     "name": "#%%\n"
    }
   }
  },
  {
   "cell_type": "code",
   "execution_count": 62,
   "outputs": [],
   "source": [
    "\n",
    "\n"
   ],
   "metadata": {
    "collapsed": false,
    "pycharm": {
     "name": "#%%\n"
    }
   }
  },
  {
   "cell_type": "code",
   "execution_count": 63,
   "outputs": [
    {
     "data": {
      "text/plain": "           id       sku  stocks\n0        2114  B1005122       0\n1        2115  B1005123      15\n2        2119  B1015128       0\n3        2120  B1015126       0\n4        2121  B1015127       0\n...       ...       ...     ...\n1417  1001311  V0200554      37\n1418  1001312  V0200555      62\n1419  1001322  J2000350       8\n1420  1001381  V0200666     104\n1421  1001383  V0200665       7\n\n[1422 rows x 3 columns]",
      "text/html": "<div>\n<style scoped>\n    .dataframe tbody tr th:only-of-type {\n        vertical-align: middle;\n    }\n\n    .dataframe tbody tr th {\n        vertical-align: top;\n    }\n\n    .dataframe thead th {\n        text-align: right;\n    }\n</style>\n<table border=\"1\" class=\"dataframe\">\n  <thead>\n    <tr style=\"text-align: right;\">\n      <th></th>\n      <th>id</th>\n      <th>sku</th>\n      <th>stocks</th>\n    </tr>\n  </thead>\n  <tbody>\n    <tr>\n      <th>0</th>\n      <td>2114</td>\n      <td>B1005122</td>\n      <td>0</td>\n    </tr>\n    <tr>\n      <th>1</th>\n      <td>2115</td>\n      <td>B1005123</td>\n      <td>15</td>\n    </tr>\n    <tr>\n      <th>2</th>\n      <td>2119</td>\n      <td>B1015128</td>\n      <td>0</td>\n    </tr>\n    <tr>\n      <th>3</th>\n      <td>2120</td>\n      <td>B1015126</td>\n      <td>0</td>\n    </tr>\n    <tr>\n      <th>4</th>\n      <td>2121</td>\n      <td>B1015127</td>\n      <td>0</td>\n    </tr>\n    <tr>\n      <th>...</th>\n      <td>...</td>\n      <td>...</td>\n      <td>...</td>\n    </tr>\n    <tr>\n      <th>1417</th>\n      <td>1001311</td>\n      <td>V0200554</td>\n      <td>37</td>\n    </tr>\n    <tr>\n      <th>1418</th>\n      <td>1001312</td>\n      <td>V0200555</td>\n      <td>62</td>\n    </tr>\n    <tr>\n      <th>1419</th>\n      <td>1001322</td>\n      <td>J2000350</td>\n      <td>8</td>\n    </tr>\n    <tr>\n      <th>1420</th>\n      <td>1001381</td>\n      <td>V0200666</td>\n      <td>104</td>\n    </tr>\n    <tr>\n      <th>1421</th>\n      <td>1001383</td>\n      <td>V0200665</td>\n      <td>7</td>\n    </tr>\n  </tbody>\n</table>\n<p>1422 rows × 3 columns</p>\n</div>"
     },
     "execution_count": 63,
     "metadata": {},
     "output_type": "execute_result"
    }
   ],
   "source": [
    "stock_df"
   ],
   "metadata": {
    "collapsed": false,
    "pycharm": {
     "name": "#%%\n"
    }
   }
  },
  {
   "cell_type": "code",
   "execution_count": null,
   "outputs": [],
   "source": [
    "df = df.rename(columns={'sku': 'artnr',\n",
    "                        'ean13':'ean',\n",
    "                        'product':'product_id',\n",
    "                        'purchaseprice': 'wholesalePrice',\n",
    "                        })"
   ],
   "metadata": {
    "collapsed": false,
    "pycharm": {
     "name": "#%%\n"
    }
   }
  },
  {
   "cell_type": "code",
   "execution_count": null,
   "outputs": [],
   "source": [
    "df.columns"
   ],
   "metadata": {
    "collapsed": false,
    "pycharm": {
     "name": "#%%\n"
    }
   }
  },
  {
   "cell_type": "code",
   "execution_count": null,
   "outputs": [],
   "source": [],
   "metadata": {
    "collapsed": false,
    "pycharm": {
     "name": "#%%\n"
    }
   }
  }
 ],
 "metadata": {
  "kernelspec": {
   "display_name": "Python 3",
   "language": "python",
   "name": "python3"
  },
  "language_info": {
   "codemirror_mode": {
    "name": "ipython",
    "version": 2
   },
   "file_extension": ".py",
   "mimetype": "text/x-python",
   "name": "python",
   "nbconvert_exporter": "python",
   "pygments_lexer": "ipython2",
   "version": "2.7.6"
  }
 },
 "nbformat": 4,
 "nbformat_minor": 0
}