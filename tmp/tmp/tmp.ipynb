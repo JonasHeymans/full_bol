{
 "cells": [
  {
   "cell_type": "code",
   "execution_count": 71,
   "outputs": [],
   "source": [
    "import pandas as pd"
   ],
   "metadata": {
    "collapsed": false,
    "pycharm": {
     "name": "#%%\n"
    }
   }
  },
  {
   "cell_type": "code",
   "execution_count": 72,
   "outputs": [],
   "source": [
    "df = pd.DataFrame()"
   ],
   "metadata": {
    "collapsed": false,
    "pycharm": {
     "name": "#%%\n"
    }
   }
  },
  {
   "cell_type": "code",
   "execution_count": 73,
   "outputs": [],
   "source": [
    "for x in range(1,10):\n",
    "    path = f'tmp_products{x}.json'\n",
    "    tmp = pd.read_json(path)\n",
    "    df = pd.concat([df,tmp])\n"
   ],
   "metadata": {
    "collapsed": false,
    "pycharm": {
     "name": "#%%\n"
    }
   }
  },
  {
   "cell_type": "code",
   "execution_count": 85,
   "outputs": [
    {
     "data": {
      "text/plain": "   manufacturer      id       sku         ean13  weight  height  width  depth  \\\n0             1  289786  S3520035  4.059779e+12   0.580    28.0   23.0    5.0   \n1             1  290600  S4254155  8.025358e+11   0.425    10.0   10.0   20.0   \n2             1  290603  S4254169  8.025359e+11   0.425    10.0   10.0   20.0   \n3             1  295372  S2407092  8.435408e+12   1.000    60.0   49.0   10.0   \n4             1  297793  S2413938  8.435435e+12   0.250    65.0   60.0   45.0   \n\n               dateUpd  category  ... images taxRate taxId  inShopsPrice  \\\n0  2022-05-26 15:27:23      2616  ...   True      21     1          9.99   \n1  2022-07-19 05:30:23      2525  ...   True      21     1         21.26   \n2  2022-07-15 05:30:26      2526  ...   True      21     1         17.72   \n3  2022-07-21 09:36:17      3040  ...   True      21     1         18.53   \n4  2022-07-18 11:50:14      2581  ...   True      21     1          8.59   \n\n       condition logisticClass  tags  dateUpdProperties  dateUpdCategories  \\\n0  REFURBISHED_B             A  True                NaN                NaN   \n1            NEW             A  True                NaN                NaN   \n2            NEW             A  True                NaN                NaN   \n3            NEW             A  True                NaN                NaN   \n4            NEW             A  True                NaN                NaN   \n\n   size  \n0     1  \n1     1  \n2     1  \n3     1  \n4     1  \n\n[5 rows x 30 columns]",
      "text/html": "<div>\n<style scoped>\n    .dataframe tbody tr th:only-of-type {\n        vertical-align: middle;\n    }\n\n    .dataframe tbody tr th {\n        vertical-align: top;\n    }\n\n    .dataframe thead th {\n        text-align: right;\n    }\n</style>\n<table border=\"1\" class=\"dataframe\">\n  <thead>\n    <tr style=\"text-align: right;\">\n      <th></th>\n      <th>manufacturer</th>\n      <th>id</th>\n      <th>sku</th>\n      <th>ean13</th>\n      <th>weight</th>\n      <th>height</th>\n      <th>width</th>\n      <th>depth</th>\n      <th>dateUpd</th>\n      <th>category</th>\n      <th>...</th>\n      <th>images</th>\n      <th>taxRate</th>\n      <th>taxId</th>\n      <th>inShopsPrice</th>\n      <th>condition</th>\n      <th>logisticClass</th>\n      <th>tags</th>\n      <th>dateUpdProperties</th>\n      <th>dateUpdCategories</th>\n      <th>size</th>\n    </tr>\n  </thead>\n  <tbody>\n    <tr>\n      <th>0</th>\n      <td>1</td>\n      <td>289786</td>\n      <td>S3520035</td>\n      <td>4.059779e+12</td>\n      <td>0.580</td>\n      <td>28.0</td>\n      <td>23.0</td>\n      <td>5.0</td>\n      <td>2022-05-26 15:27:23</td>\n      <td>2616</td>\n      <td>...</td>\n      <td>True</td>\n      <td>21</td>\n      <td>1</td>\n      <td>9.99</td>\n      <td>REFURBISHED_B</td>\n      <td>A</td>\n      <td>True</td>\n      <td>NaN</td>\n      <td>NaN</td>\n      <td>1</td>\n    </tr>\n    <tr>\n      <th>1</th>\n      <td>1</td>\n      <td>290600</td>\n      <td>S4254155</td>\n      <td>8.025358e+11</td>\n      <td>0.425</td>\n      <td>10.0</td>\n      <td>10.0</td>\n      <td>20.0</td>\n      <td>2022-07-19 05:30:23</td>\n      <td>2525</td>\n      <td>...</td>\n      <td>True</td>\n      <td>21</td>\n      <td>1</td>\n      <td>21.26</td>\n      <td>NEW</td>\n      <td>A</td>\n      <td>True</td>\n      <td>NaN</td>\n      <td>NaN</td>\n      <td>1</td>\n    </tr>\n    <tr>\n      <th>2</th>\n      <td>1</td>\n      <td>290603</td>\n      <td>S4254169</td>\n      <td>8.025359e+11</td>\n      <td>0.425</td>\n      <td>10.0</td>\n      <td>10.0</td>\n      <td>20.0</td>\n      <td>2022-07-15 05:30:26</td>\n      <td>2526</td>\n      <td>...</td>\n      <td>True</td>\n      <td>21</td>\n      <td>1</td>\n      <td>17.72</td>\n      <td>NEW</td>\n      <td>A</td>\n      <td>True</td>\n      <td>NaN</td>\n      <td>NaN</td>\n      <td>1</td>\n    </tr>\n    <tr>\n      <th>3</th>\n      <td>1</td>\n      <td>295372</td>\n      <td>S2407092</td>\n      <td>8.435408e+12</td>\n      <td>1.000</td>\n      <td>60.0</td>\n      <td>49.0</td>\n      <td>10.0</td>\n      <td>2022-07-21 09:36:17</td>\n      <td>3040</td>\n      <td>...</td>\n      <td>True</td>\n      <td>21</td>\n      <td>1</td>\n      <td>18.53</td>\n      <td>NEW</td>\n      <td>A</td>\n      <td>True</td>\n      <td>NaN</td>\n      <td>NaN</td>\n      <td>1</td>\n    </tr>\n    <tr>\n      <th>4</th>\n      <td>1</td>\n      <td>297793</td>\n      <td>S2413938</td>\n      <td>8.435435e+12</td>\n      <td>0.250</td>\n      <td>65.0</td>\n      <td>60.0</td>\n      <td>45.0</td>\n      <td>2022-07-18 11:50:14</td>\n      <td>2581</td>\n      <td>...</td>\n      <td>True</td>\n      <td>21</td>\n      <td>1</td>\n      <td>8.59</td>\n      <td>NEW</td>\n      <td>A</td>\n      <td>True</td>\n      <td>NaN</td>\n      <td>NaN</td>\n      <td>1</td>\n    </tr>\n  </tbody>\n</table>\n<p>5 rows × 30 columns</p>\n</div>"
     },
     "execution_count": 85,
     "metadata": {},
     "output_type": "execute_result"
    }
   ],
   "source": [
    "df.head()"
   ],
   "metadata": {
    "collapsed": false,
    "pycharm": {
     "name": "#%%\n"
    }
   }
  },
  {
   "cell_type": "code",
   "execution_count": 74,
   "outputs": [
    {
     "name": "stdout",
     "output_type": "stream",
     "text": [
      "<class 'pandas.core.frame.DataFrame'>\n",
      "Int64Index: 90000 entries, 0 to 9999\n",
      "Data columns (total 30 columns):\n",
      " #   Column                Non-Null Count  Dtype  \n",
      "---  ------                --------------  -----  \n",
      " 0   manufacturer          90000 non-null  int64  \n",
      " 1   id                    90000 non-null  int64  \n",
      " 2   sku                   90000 non-null  object \n",
      " 3   ean13                 84811 non-null  float64\n",
      " 4   weight                90000 non-null  float64\n",
      " 5   height                90000 non-null  float64\n",
      " 6   width                 90000 non-null  float64\n",
      " 7   depth                 90000 non-null  float64\n",
      " 8   dateUpd               90000 non-null  object \n",
      " 9   category              90000 non-null  int64  \n",
      " 10  dateUpdDescription    89951 non-null  object \n",
      " 11  dateUpdImages         89948 non-null  object \n",
      " 12  dateUpdStock          89971 non-null  object \n",
      " 13  wholesalePrice        90000 non-null  float64\n",
      " 14  retailPrice           90000 non-null  float64\n",
      " 15  dateAdd               90000 non-null  object \n",
      " 16  video                 90000 non-null  object \n",
      " 17  active                90000 non-null  int64  \n",
      " 18  attributes            90000 non-null  bool   \n",
      " 19  categories            90000 non-null  bool   \n",
      " 20  images                90000 non-null  bool   \n",
      " 21  taxRate               90000 non-null  int64  \n",
      " 22  taxId                 90000 non-null  int64  \n",
      " 23  inShopsPrice          90000 non-null  float64\n",
      " 24  condition             90000 non-null  object \n",
      " 25  logisticClass         90000 non-null  object \n",
      " 26  tags                  90000 non-null  bool   \n",
      " 27  dateUpdProperties     6127 non-null   object \n",
      " 28  dateUpdCategories     0 non-null      float64\n",
      " 29  priceLargeQuantities  68081 non-null  object \n",
      "dtypes: bool(4), float64(9), int64(6), object(11)\n",
      "memory usage: 18.9+ MB\n"
     ]
    }
   ],
   "source": [
    "df.info()"
   ],
   "metadata": {
    "collapsed": false,
    "pycharm": {
     "name": "#%%\n"
    }
   }
  },
  {
   "cell_type": "code",
   "execution_count": 75,
   "outputs": [],
   "source": [
    "df.drop(columns='priceLargeQuantities', inplace=True)"
   ],
   "metadata": {
    "collapsed": false,
    "pycharm": {
     "name": "#%%\n"
    }
   }
  },
  {
   "cell_type": "code",
   "execution_count": 76,
   "outputs": [
    {
     "data": {
      "text/plain": "(90000, 29)"
     },
     "execution_count": 76,
     "metadata": {},
     "output_type": "execute_result"
    }
   ],
   "source": [
    "df.shape"
   ],
   "metadata": {
    "collapsed": false,
    "pycharm": {
     "name": "#%%\n"
    }
   }
  },
  {
   "cell_type": "code",
   "execution_count": 77,
   "outputs": [
    {
     "name": "stdout",
     "output_type": "stream",
     "text": [
      "<class 'pandas.core.frame.DataFrame'>\n",
      "Int64Index: 90000 entries, 0 to 9999\n",
      "Data columns (total 29 columns):\n",
      " #   Column              Non-Null Count  Dtype  \n",
      "---  ------              --------------  -----  \n",
      " 0   manufacturer        90000 non-null  int64  \n",
      " 1   id                  90000 non-null  int64  \n",
      " 2   sku                 90000 non-null  object \n",
      " 3   ean13               84811 non-null  float64\n",
      " 4   weight              90000 non-null  float64\n",
      " 5   height              90000 non-null  float64\n",
      " 6   width               90000 non-null  float64\n",
      " 7   depth               90000 non-null  float64\n",
      " 8   dateUpd             90000 non-null  object \n",
      " 9   category            90000 non-null  int64  \n",
      " 10  dateUpdDescription  89951 non-null  object \n",
      " 11  dateUpdImages       89948 non-null  object \n",
      " 12  dateUpdStock        89971 non-null  object \n",
      " 13  wholesalePrice      90000 non-null  float64\n",
      " 14  retailPrice         90000 non-null  float64\n",
      " 15  dateAdd             90000 non-null  object \n",
      " 16  video               90000 non-null  object \n",
      " 17  active              90000 non-null  int64  \n",
      " 18  attributes          90000 non-null  bool   \n",
      " 19  categories          90000 non-null  bool   \n",
      " 20  images              90000 non-null  bool   \n",
      " 21  taxRate             90000 non-null  int64  \n",
      " 22  taxId               90000 non-null  int64  \n",
      " 23  inShopsPrice        90000 non-null  float64\n",
      " 24  condition           90000 non-null  object \n",
      " 25  logisticClass       90000 non-null  object \n",
      " 26  tags                90000 non-null  bool   \n",
      " 27  dateUpdProperties   6127 non-null   object \n",
      " 28  dateUpdCategories   0 non-null      float64\n",
      "dtypes: bool(4), float64(9), int64(6), object(10)\n",
      "memory usage: 18.2+ MB\n"
     ]
    }
   ],
   "source": [
    "df.info()"
   ],
   "metadata": {
    "collapsed": false,
    "pycharm": {
     "name": "#%%\n"
    }
   }
  },
  {
   "cell_type": "code",
   "execution_count": 78,
   "outputs": [
    {
     "data": {
      "text/plain": "       manufacturer             id         ean13        weight        height  \\\ncount  90000.000000   90000.000000  8.481100e+04  90000.000000  90000.000000   \nmean    6389.098256  288811.905056  5.746322e+12      2.777683     21.074678   \nstd     5525.547882   86472.688817  3.189355e+12      8.875964     20.417697   \nmin        1.000000    1487.000000  0.000000e+00      0.000000      0.000000   \n25%     1893.000000  247122.250000  3.614227e+12      0.100000      9.500000   \n50%     3473.000000  322507.000000  8.007403e+12      0.320000     15.500000   \n75%    13493.000000  352673.500000  8.424002e+12      1.430000     27.940000   \nmax    15572.000000  377538.000000  1.000000e+13    220.000000   1118.000000   \n\n              width         depth      category  wholesalePrice   retailPrice  \\\ncount  90000.000000  90000.000000  90000.000000    90000.000000  90000.000000   \nmean      22.470449     24.009015   2793.878611       60.925869     67.907977   \nstd       23.159250     26.460755    309.177686      285.786638    307.032795   \nmin        0.000000      0.000000      0.000000        0.010000      0.010000   \n25%        7.890000      8.000000   2536.000000        6.020000      7.590000   \n50%       15.000000     15.000000   2718.000000       14.250000     17.470000   \n75%       30.000000     31.000000   2996.250000       35.070000     41.632500   \nmax      439.000000   1267.000000   3477.000000    41305.100000  44414.090000   \n\n        active       taxRate         taxId  inShopsPrice  dateUpdCategories  \ncount  90000.0  90000.000000  90000.000000  90000.000000                0.0  \nmean       1.0     20.930389      1.006333     97.898598                NaN  \nstd        0.0      0.872937      0.079470    408.360655                NaN  \nmin        1.0      4.000000      1.000000      0.010000                NaN  \n25%        1.0     21.000000      1.000000     12.400000                NaN  \n50%        1.0     21.000000      1.000000     27.390000                NaN  \n75%        1.0     21.000000      1.000000     67.307500                NaN  \nmax        1.0     21.000000      3.000000  52251.870000                NaN  ",
      "text/html": "<div>\n<style scoped>\n    .dataframe tbody tr th:only-of-type {\n        vertical-align: middle;\n    }\n\n    .dataframe tbody tr th {\n        vertical-align: top;\n    }\n\n    .dataframe thead th {\n        text-align: right;\n    }\n</style>\n<table border=\"1\" class=\"dataframe\">\n  <thead>\n    <tr style=\"text-align: right;\">\n      <th></th>\n      <th>manufacturer</th>\n      <th>id</th>\n      <th>ean13</th>\n      <th>weight</th>\n      <th>height</th>\n      <th>width</th>\n      <th>depth</th>\n      <th>category</th>\n      <th>wholesalePrice</th>\n      <th>retailPrice</th>\n      <th>active</th>\n      <th>taxRate</th>\n      <th>taxId</th>\n      <th>inShopsPrice</th>\n      <th>dateUpdCategories</th>\n    </tr>\n  </thead>\n  <tbody>\n    <tr>\n      <th>count</th>\n      <td>90000.000000</td>\n      <td>90000.000000</td>\n      <td>8.481100e+04</td>\n      <td>90000.000000</td>\n      <td>90000.000000</td>\n      <td>90000.000000</td>\n      <td>90000.000000</td>\n      <td>90000.000000</td>\n      <td>90000.000000</td>\n      <td>90000.000000</td>\n      <td>90000.0</td>\n      <td>90000.000000</td>\n      <td>90000.000000</td>\n      <td>90000.000000</td>\n      <td>0.0</td>\n    </tr>\n    <tr>\n      <th>mean</th>\n      <td>6389.098256</td>\n      <td>288811.905056</td>\n      <td>5.746322e+12</td>\n      <td>2.777683</td>\n      <td>21.074678</td>\n      <td>22.470449</td>\n      <td>24.009015</td>\n      <td>2793.878611</td>\n      <td>60.925869</td>\n      <td>67.907977</td>\n      <td>1.0</td>\n      <td>20.930389</td>\n      <td>1.006333</td>\n      <td>97.898598</td>\n      <td>NaN</td>\n    </tr>\n    <tr>\n      <th>std</th>\n      <td>5525.547882</td>\n      <td>86472.688817</td>\n      <td>3.189355e+12</td>\n      <td>8.875964</td>\n      <td>20.417697</td>\n      <td>23.159250</td>\n      <td>26.460755</td>\n      <td>309.177686</td>\n      <td>285.786638</td>\n      <td>307.032795</td>\n      <td>0.0</td>\n      <td>0.872937</td>\n      <td>0.079470</td>\n      <td>408.360655</td>\n      <td>NaN</td>\n    </tr>\n    <tr>\n      <th>min</th>\n      <td>1.000000</td>\n      <td>1487.000000</td>\n      <td>0.000000e+00</td>\n      <td>0.000000</td>\n      <td>0.000000</td>\n      <td>0.000000</td>\n      <td>0.000000</td>\n      <td>0.000000</td>\n      <td>0.010000</td>\n      <td>0.010000</td>\n      <td>1.0</td>\n      <td>4.000000</td>\n      <td>1.000000</td>\n      <td>0.010000</td>\n      <td>NaN</td>\n    </tr>\n    <tr>\n      <th>25%</th>\n      <td>1893.000000</td>\n      <td>247122.250000</td>\n      <td>3.614227e+12</td>\n      <td>0.100000</td>\n      <td>9.500000</td>\n      <td>7.890000</td>\n      <td>8.000000</td>\n      <td>2536.000000</td>\n      <td>6.020000</td>\n      <td>7.590000</td>\n      <td>1.0</td>\n      <td>21.000000</td>\n      <td>1.000000</td>\n      <td>12.400000</td>\n      <td>NaN</td>\n    </tr>\n    <tr>\n      <th>50%</th>\n      <td>3473.000000</td>\n      <td>322507.000000</td>\n      <td>8.007403e+12</td>\n      <td>0.320000</td>\n      <td>15.500000</td>\n      <td>15.000000</td>\n      <td>15.000000</td>\n      <td>2718.000000</td>\n      <td>14.250000</td>\n      <td>17.470000</td>\n      <td>1.0</td>\n      <td>21.000000</td>\n      <td>1.000000</td>\n      <td>27.390000</td>\n      <td>NaN</td>\n    </tr>\n    <tr>\n      <th>75%</th>\n      <td>13493.000000</td>\n      <td>352673.500000</td>\n      <td>8.424002e+12</td>\n      <td>1.430000</td>\n      <td>27.940000</td>\n      <td>30.000000</td>\n      <td>31.000000</td>\n      <td>2996.250000</td>\n      <td>35.070000</td>\n      <td>41.632500</td>\n      <td>1.0</td>\n      <td>21.000000</td>\n      <td>1.000000</td>\n      <td>67.307500</td>\n      <td>NaN</td>\n    </tr>\n    <tr>\n      <th>max</th>\n      <td>15572.000000</td>\n      <td>377538.000000</td>\n      <td>1.000000e+13</td>\n      <td>220.000000</td>\n      <td>1118.000000</td>\n      <td>439.000000</td>\n      <td>1267.000000</td>\n      <td>3477.000000</td>\n      <td>41305.100000</td>\n      <td>44414.090000</td>\n      <td>1.0</td>\n      <td>21.000000</td>\n      <td>3.000000</td>\n      <td>52251.870000</td>\n      <td>NaN</td>\n    </tr>\n  </tbody>\n</table>\n</div>"
     },
     "execution_count": 78,
     "metadata": {},
     "output_type": "execute_result"
    }
   ],
   "source": [
    "df.describe()"
   ],
   "metadata": {
    "collapsed": false,
    "pycharm": {
     "name": "#%%\n"
    }
   }
  },
  {
   "cell_type": "code",
   "execution_count": 79,
   "outputs": [
    {
     "data": {
      "text/plain": "Index(['manufacturer', 'id', 'sku', 'ean13', 'weight', 'height', 'width',\n       'depth', 'dateUpd', 'category', 'dateUpdDescription', 'dateUpdImages',\n       'dateUpdStock', 'wholesalePrice', 'retailPrice', 'dateAdd', 'video',\n       'active', 'attributes', 'categories', 'images', 'taxRate', 'taxId',\n       'inShopsPrice', 'condition', 'logisticClass', 'tags',\n       'dateUpdProperties', 'dateUpdCategories'],\n      dtype='object')"
     },
     "execution_count": 79,
     "metadata": {},
     "output_type": "execute_result"
    }
   ],
   "source": [
    "df.columns"
   ],
   "metadata": {
    "collapsed": false,
    "pycharm": {
     "name": "#%%\n"
    }
   }
  },
  {
   "cell_type": "code",
   "execution_count": 80,
   "outputs": [
    {
     "data": {
      "text/plain": "manufacturer            int64\nid                      int64\nsku                    object\nean13                 float64\nweight                float64\nheight                float64\nwidth                 float64\ndepth                 float64\ndateUpd                object\ncategory                int64\ndateUpdDescription     object\ndateUpdImages          object\ndateUpdStock           object\nwholesalePrice        float64\nretailPrice           float64\ndateAdd                object\nvideo                  object\nactive                  int64\nattributes               bool\ncategories               bool\nimages                   bool\ntaxRate                 int64\ntaxId                   int64\ninShopsPrice          float64\ncondition              object\nlogisticClass          object\ntags                     bool\ndateUpdProperties      object\ndateUpdCategories     float64\ndtype: object"
     },
     "execution_count": 80,
     "metadata": {},
     "output_type": "execute_result"
    }
   ],
   "source": [
    "df.dtypes"
   ],
   "metadata": {
    "collapsed": false,
    "pycharm": {
     "name": "#%%\n"
    }
   }
  },
  {
   "cell_type": "code",
   "execution_count": 81,
   "outputs": [
    {
     "data": {
      "text/plain": "manufacturer              0\nid                        0\nsku                       0\nean13                  5189\nweight                    0\nheight                    0\nwidth                     0\ndepth                     0\ndateUpd                   0\ncategory                  0\ndateUpdDescription       49\ndateUpdImages            52\ndateUpdStock             29\nwholesalePrice            0\nretailPrice               0\ndateAdd                   0\nvideo                     0\nactive                    0\nattributes                0\ncategories                0\nimages                    0\ntaxRate                   0\ntaxId                     0\ninShopsPrice              0\ncondition                 0\nlogisticClass             0\ntags                      0\ndateUpdProperties     83873\ndateUpdCategories     90000\ndtype: int64"
     },
     "execution_count": 81,
     "metadata": {},
     "output_type": "execute_result"
    }
   ],
   "source": [
    "df.isnull().sum()"
   ],
   "metadata": {
    "collapsed": false,
    "pycharm": {
     "name": "#%%\n"
    }
   }
  },
  {
   "cell_type": "code",
   "execution_count": 81,
   "outputs": [],
   "source": [],
   "metadata": {
    "collapsed": false,
    "pycharm": {
     "name": "#%%\n"
    }
   }
  },
  {
   "cell_type": "markdown",
   "source": [],
   "metadata": {
    "collapsed": false,
    "pycharm": {
     "name": "#%% md\n"
    }
   }
  },
  {
   "cell_type": "code",
   "execution_count": 82,
   "outputs": [],
   "source": [
    "df = df.groupby(df.columns.tolist(), as_index=False, dropna=False).size()"
   ],
   "metadata": {
    "collapsed": false,
    "pycharm": {
     "name": "#%%\n"
    }
   }
  },
  {
   "cell_type": "code",
   "execution_count": 83,
   "outputs": [
    {
     "data": {
      "text/plain": "       manufacturer      id        sku         ean13  weight  height  width  \\\n9518           1513  327851   S3530003  1.942522e+11   0.105   13.37   6.82   \n9519           1513  327856   S3530065  1.942522e+11   1.000   30.00  30.00   \n9520           1513  327862   S3530245  1.901993e+11   1.000   30.00  30.00   \n9521           1513  327864   S3530377  1.942521e+11   1.198   18.98  11.54   \n13933          1551  354097   S6501600  8.712582e+12   0.486    7.50  11.00   \n18886          1799  327858   S3530134  4.549526e+12   0.297   10.18   9.93   \n18890          1799  328073   S3530388  4.971850e+12   1.000   30.00  30.00   \n21513          1889  354051   S6501913  4.210202e+12   0.288    5.50  11.60   \n21514          1889  354052   S6501961  4.210201e+12   0.740   19.50   7.00   \n26384          2241  354098   S6501607  4.013834e+12   0.218   12.30   3.40   \n27499          2304  284126  S55012905  6.934178e+12   0.600    6.00  39.00   \n28466          2404  304380   S4506109  3.614223e+12   0.279   12.57   7.18   \n36154          3201  326723   S3527714  4.899888e+12   0.105   13.37   6.82   \n36156          3201  326770   S3527710  7.386313e+11   0.200   13.75  13.97   \n36157          3201  326773   S3527713  4.899888e+12   0.105   13.37   6.82   \n36328          3206  354313   S1423872           NaN   0.000   30.50  15.00   \n42303          3228  326720   S3527712  9.430880e+10   0.200   10.00  10.00   \n42306          3228  326777   S3527718  6.265745e+12   0.105   13.37   6.82   \n42694          3228  354100   S6501803  8.436034e+12   0.428   12.00   8.00   \n76716         14403  354129   S4259229  5.603928e+12   0.010    7.66   8.24   \n76719         14403  354132   S4259230  5.600463e+12   0.010    7.66   8.24   \n76721         14403  354134   S4259228  5.603928e+12   0.010    7.66   8.24   \n\n       depth              dateUpd  category  ... images taxRate taxId  \\\n9518   10.96  2022-04-18 14:20:28      2620  ...   True      21     1   \n9519   30.00  2022-03-21 16:07:56      2620  ...   True      21     1   \n9520   30.00  2022-03-20 11:13:34      2620  ...   True      21     1   \n9521   27.34  2022-03-10 17:21:44      2634  ...   True      21     1   \n13933  23.00  2022-07-22 05:40:13      2927  ...   True      21     1   \n18886  10.05  2022-04-22 09:15:01      2995  ...   True      21     1   \n18890  30.00  2022-07-07 13:11:32      2995  ...   True      21     1   \n21513  14.00  2022-07-22 05:41:12      2544  ...   True      21     1   \n21514  26.00  2022-07-22 10:33:50      2544  ...   True      21     1   \n26384   7.20  2022-07-23 05:40:11      2928  ...   True      21     1   \n27499  49.00  2022-07-12 17:34:08      2800  ...   True      21     1   \n28466   8.57  2022-06-27 09:32:26      2510  ...   True      21     1   \n36154  10.96  2022-03-08 18:36:29      2620  ...   True      21     1   \n36156  21.51  2022-03-08 18:36:09      2938  ...   True      21     1   \n36157  10.96  2022-03-08 18:35:43      2620  ...   True      21     1   \n36328  20.00  2022-07-20 18:16:26      3172  ...   True      21     1   \n42303   5.00  2022-03-08 18:36:34      2848  ...   True      21     1   \n42306  10.96  2022-03-08 18:36:15      2620  ...   True      21     1   \n42694  18.00  2022-07-22 05:40:16      2927  ...   True      21     1   \n76716   7.72  2022-07-23 05:30:11      2546  ...   True      21     1   \n76719   7.72  2022-07-23 05:30:11      2546  ...   True      21     1   \n76721   7.72  2022-07-23 05:30:11      2546  ...   True      21     1   \n\n       inShopsPrice           condition logisticClass   tags  \\\n9518          41.48       REFURBISHED_B             A   True   \n9519          39.00       REFURBISHED_A             A   True   \n9520          32.79       REFURBISHED_C             A   True   \n9521          28.98  REFURBISHED_A_PLUS             A   True   \n13933         27.97                 NEW             A   True   \n18886         36.15       REFURBISHED_B             A   True   \n18890         28.49       REFURBISHED_C             A   True   \n21513         28.95                 NEW             A   True   \n21514        155.93                 NEW             A   True   \n26384         13.67                 NEW             A   True   \n27499         31.39                 NEW             A   True   \n28466         77.38                 NEW             A   True   \n36154         11.23       REFURBISHED_A             A   True   \n36156         11.88       REFURBISHED_D             A   True   \n36157         11.33       REFURBISHED_B             A   True   \n36328         17.73                 NEW             A  False   \n42303         11.33  REFURBISHED_A_PLUS             A   True   \n42306         10.08       REFURBISHED_B             A   True   \n42694         19.97                 NEW             A   True   \n76716          7.11                 NEW             A   True   \n76719          7.11                 NEW             A   True   \n76721          7.11                 NEW             A   True   \n\n       dateUpdProperties  dateUpdCategories  size  \n9518                 NaN                NaN     2  \n9519                 NaN                NaN     2  \n9520                 NaN                NaN     2  \n9521                 NaN                NaN     2  \n13933                NaN                NaN     2  \n18886                NaN                NaN     2  \n18890                NaN                NaN     2  \n21513                NaN                NaN     2  \n21514                NaN                NaN     2  \n26384                NaN                NaN     2  \n27499                NaN                NaN     2  \n28466                NaN                NaN     2  \n36154                NaN                NaN     2  \n36156                NaN                NaN     2  \n36157                NaN                NaN     2  \n36328                NaN                NaN     2  \n42303                NaN                NaN     2  \n42306                NaN                NaN     2  \n42694                NaN                NaN     2  \n76716                NaN                NaN     2  \n76719                NaN                NaN     2  \n76721                NaN                NaN     2  \n\n[22 rows x 30 columns]",
      "text/html": "<div>\n<style scoped>\n    .dataframe tbody tr th:only-of-type {\n        vertical-align: middle;\n    }\n\n    .dataframe tbody tr th {\n        vertical-align: top;\n    }\n\n    .dataframe thead th {\n        text-align: right;\n    }\n</style>\n<table border=\"1\" class=\"dataframe\">\n  <thead>\n    <tr style=\"text-align: right;\">\n      <th></th>\n      <th>manufacturer</th>\n      <th>id</th>\n      <th>sku</th>\n      <th>ean13</th>\n      <th>weight</th>\n      <th>height</th>\n      <th>width</th>\n      <th>depth</th>\n      <th>dateUpd</th>\n      <th>category</th>\n      <th>...</th>\n      <th>images</th>\n      <th>taxRate</th>\n      <th>taxId</th>\n      <th>inShopsPrice</th>\n      <th>condition</th>\n      <th>logisticClass</th>\n      <th>tags</th>\n      <th>dateUpdProperties</th>\n      <th>dateUpdCategories</th>\n      <th>size</th>\n    </tr>\n  </thead>\n  <tbody>\n    <tr>\n      <th>9518</th>\n      <td>1513</td>\n      <td>327851</td>\n      <td>S3530003</td>\n      <td>1.942522e+11</td>\n      <td>0.105</td>\n      <td>13.37</td>\n      <td>6.82</td>\n      <td>10.96</td>\n      <td>2022-04-18 14:20:28</td>\n      <td>2620</td>\n      <td>...</td>\n      <td>True</td>\n      <td>21</td>\n      <td>1</td>\n      <td>41.48</td>\n      <td>REFURBISHED_B</td>\n      <td>A</td>\n      <td>True</td>\n      <td>NaN</td>\n      <td>NaN</td>\n      <td>2</td>\n    </tr>\n    <tr>\n      <th>9519</th>\n      <td>1513</td>\n      <td>327856</td>\n      <td>S3530065</td>\n      <td>1.942522e+11</td>\n      <td>1.000</td>\n      <td>30.00</td>\n      <td>30.00</td>\n      <td>30.00</td>\n      <td>2022-03-21 16:07:56</td>\n      <td>2620</td>\n      <td>...</td>\n      <td>True</td>\n      <td>21</td>\n      <td>1</td>\n      <td>39.00</td>\n      <td>REFURBISHED_A</td>\n      <td>A</td>\n      <td>True</td>\n      <td>NaN</td>\n      <td>NaN</td>\n      <td>2</td>\n    </tr>\n    <tr>\n      <th>9520</th>\n      <td>1513</td>\n      <td>327862</td>\n      <td>S3530245</td>\n      <td>1.901993e+11</td>\n      <td>1.000</td>\n      <td>30.00</td>\n      <td>30.00</td>\n      <td>30.00</td>\n      <td>2022-03-20 11:13:34</td>\n      <td>2620</td>\n      <td>...</td>\n      <td>True</td>\n      <td>21</td>\n      <td>1</td>\n      <td>32.79</td>\n      <td>REFURBISHED_C</td>\n      <td>A</td>\n      <td>True</td>\n      <td>NaN</td>\n      <td>NaN</td>\n      <td>2</td>\n    </tr>\n    <tr>\n      <th>9521</th>\n      <td>1513</td>\n      <td>327864</td>\n      <td>S3530377</td>\n      <td>1.942521e+11</td>\n      <td>1.198</td>\n      <td>18.98</td>\n      <td>11.54</td>\n      <td>27.34</td>\n      <td>2022-03-10 17:21:44</td>\n      <td>2634</td>\n      <td>...</td>\n      <td>True</td>\n      <td>21</td>\n      <td>1</td>\n      <td>28.98</td>\n      <td>REFURBISHED_A_PLUS</td>\n      <td>A</td>\n      <td>True</td>\n      <td>NaN</td>\n      <td>NaN</td>\n      <td>2</td>\n    </tr>\n    <tr>\n      <th>13933</th>\n      <td>1551</td>\n      <td>354097</td>\n      <td>S6501600</td>\n      <td>8.712582e+12</td>\n      <td>0.486</td>\n      <td>7.50</td>\n      <td>11.00</td>\n      <td>23.00</td>\n      <td>2022-07-22 05:40:13</td>\n      <td>2927</td>\n      <td>...</td>\n      <td>True</td>\n      <td>21</td>\n      <td>1</td>\n      <td>27.97</td>\n      <td>NEW</td>\n      <td>A</td>\n      <td>True</td>\n      <td>NaN</td>\n      <td>NaN</td>\n      <td>2</td>\n    </tr>\n    <tr>\n      <th>18886</th>\n      <td>1799</td>\n      <td>327858</td>\n      <td>S3530134</td>\n      <td>4.549526e+12</td>\n      <td>0.297</td>\n      <td>10.18</td>\n      <td>9.93</td>\n      <td>10.05</td>\n      <td>2022-04-22 09:15:01</td>\n      <td>2995</td>\n      <td>...</td>\n      <td>True</td>\n      <td>21</td>\n      <td>1</td>\n      <td>36.15</td>\n      <td>REFURBISHED_B</td>\n      <td>A</td>\n      <td>True</td>\n      <td>NaN</td>\n      <td>NaN</td>\n      <td>2</td>\n    </tr>\n    <tr>\n      <th>18890</th>\n      <td>1799</td>\n      <td>328073</td>\n      <td>S3530388</td>\n      <td>4.971850e+12</td>\n      <td>1.000</td>\n      <td>30.00</td>\n      <td>30.00</td>\n      <td>30.00</td>\n      <td>2022-07-07 13:11:32</td>\n      <td>2995</td>\n      <td>...</td>\n      <td>True</td>\n      <td>21</td>\n      <td>1</td>\n      <td>28.49</td>\n      <td>REFURBISHED_C</td>\n      <td>A</td>\n      <td>True</td>\n      <td>NaN</td>\n      <td>NaN</td>\n      <td>2</td>\n    </tr>\n    <tr>\n      <th>21513</th>\n      <td>1889</td>\n      <td>354051</td>\n      <td>S6501913</td>\n      <td>4.210202e+12</td>\n      <td>0.288</td>\n      <td>5.50</td>\n      <td>11.60</td>\n      <td>14.00</td>\n      <td>2022-07-22 05:41:12</td>\n      <td>2544</td>\n      <td>...</td>\n      <td>True</td>\n      <td>21</td>\n      <td>1</td>\n      <td>28.95</td>\n      <td>NEW</td>\n      <td>A</td>\n      <td>True</td>\n      <td>NaN</td>\n      <td>NaN</td>\n      <td>2</td>\n    </tr>\n    <tr>\n      <th>21514</th>\n      <td>1889</td>\n      <td>354052</td>\n      <td>S6501961</td>\n      <td>4.210201e+12</td>\n      <td>0.740</td>\n      <td>19.50</td>\n      <td>7.00</td>\n      <td>26.00</td>\n      <td>2022-07-22 10:33:50</td>\n      <td>2544</td>\n      <td>...</td>\n      <td>True</td>\n      <td>21</td>\n      <td>1</td>\n      <td>155.93</td>\n      <td>NEW</td>\n      <td>A</td>\n      <td>True</td>\n      <td>NaN</td>\n      <td>NaN</td>\n      <td>2</td>\n    </tr>\n    <tr>\n      <th>26384</th>\n      <td>2241</td>\n      <td>354098</td>\n      <td>S6501607</td>\n      <td>4.013834e+12</td>\n      <td>0.218</td>\n      <td>12.30</td>\n      <td>3.40</td>\n      <td>7.20</td>\n      <td>2022-07-23 05:40:11</td>\n      <td>2928</td>\n      <td>...</td>\n      <td>True</td>\n      <td>21</td>\n      <td>1</td>\n      <td>13.67</td>\n      <td>NEW</td>\n      <td>A</td>\n      <td>True</td>\n      <td>NaN</td>\n      <td>NaN</td>\n      <td>2</td>\n    </tr>\n    <tr>\n      <th>27499</th>\n      <td>2304</td>\n      <td>284126</td>\n      <td>S55012905</td>\n      <td>6.934178e+12</td>\n      <td>0.600</td>\n      <td>6.00</td>\n      <td>39.00</td>\n      <td>49.00</td>\n      <td>2022-07-12 17:34:08</td>\n      <td>2800</td>\n      <td>...</td>\n      <td>True</td>\n      <td>21</td>\n      <td>1</td>\n      <td>31.39</td>\n      <td>NEW</td>\n      <td>A</td>\n      <td>True</td>\n      <td>NaN</td>\n      <td>NaN</td>\n      <td>2</td>\n    </tr>\n    <tr>\n      <th>28466</th>\n      <td>2404</td>\n      <td>304380</td>\n      <td>S4506109</td>\n      <td>3.614223e+12</td>\n      <td>0.279</td>\n      <td>12.57</td>\n      <td>7.18</td>\n      <td>8.57</td>\n      <td>2022-06-27 09:32:26</td>\n      <td>2510</td>\n      <td>...</td>\n      <td>True</td>\n      <td>21</td>\n      <td>1</td>\n      <td>77.38</td>\n      <td>NEW</td>\n      <td>A</td>\n      <td>True</td>\n      <td>NaN</td>\n      <td>NaN</td>\n      <td>2</td>\n    </tr>\n    <tr>\n      <th>36154</th>\n      <td>3201</td>\n      <td>326723</td>\n      <td>S3527714</td>\n      <td>4.899888e+12</td>\n      <td>0.105</td>\n      <td>13.37</td>\n      <td>6.82</td>\n      <td>10.96</td>\n      <td>2022-03-08 18:36:29</td>\n      <td>2620</td>\n      <td>...</td>\n      <td>True</td>\n      <td>21</td>\n      <td>1</td>\n      <td>11.23</td>\n      <td>REFURBISHED_A</td>\n      <td>A</td>\n      <td>True</td>\n      <td>NaN</td>\n      <td>NaN</td>\n      <td>2</td>\n    </tr>\n    <tr>\n      <th>36156</th>\n      <td>3201</td>\n      <td>326770</td>\n      <td>S3527710</td>\n      <td>7.386313e+11</td>\n      <td>0.200</td>\n      <td>13.75</td>\n      <td>13.97</td>\n      <td>21.51</td>\n      <td>2022-03-08 18:36:09</td>\n      <td>2938</td>\n      <td>...</td>\n      <td>True</td>\n      <td>21</td>\n      <td>1</td>\n      <td>11.88</td>\n      <td>REFURBISHED_D</td>\n      <td>A</td>\n      <td>True</td>\n      <td>NaN</td>\n      <td>NaN</td>\n      <td>2</td>\n    </tr>\n    <tr>\n      <th>36157</th>\n      <td>3201</td>\n      <td>326773</td>\n      <td>S3527713</td>\n      <td>4.899888e+12</td>\n      <td>0.105</td>\n      <td>13.37</td>\n      <td>6.82</td>\n      <td>10.96</td>\n      <td>2022-03-08 18:35:43</td>\n      <td>2620</td>\n      <td>...</td>\n      <td>True</td>\n      <td>21</td>\n      <td>1</td>\n      <td>11.33</td>\n      <td>REFURBISHED_B</td>\n      <td>A</td>\n      <td>True</td>\n      <td>NaN</td>\n      <td>NaN</td>\n      <td>2</td>\n    </tr>\n    <tr>\n      <th>36328</th>\n      <td>3206</td>\n      <td>354313</td>\n      <td>S1423872</td>\n      <td>NaN</td>\n      <td>0.000</td>\n      <td>30.50</td>\n      <td>15.00</td>\n      <td>20.00</td>\n      <td>2022-07-20 18:16:26</td>\n      <td>3172</td>\n      <td>...</td>\n      <td>True</td>\n      <td>21</td>\n      <td>1</td>\n      <td>17.73</td>\n      <td>NEW</td>\n      <td>A</td>\n      <td>False</td>\n      <td>NaN</td>\n      <td>NaN</td>\n      <td>2</td>\n    </tr>\n    <tr>\n      <th>42303</th>\n      <td>3228</td>\n      <td>326720</td>\n      <td>S3527712</td>\n      <td>9.430880e+10</td>\n      <td>0.200</td>\n      <td>10.00</td>\n      <td>10.00</td>\n      <td>5.00</td>\n      <td>2022-03-08 18:36:34</td>\n      <td>2848</td>\n      <td>...</td>\n      <td>True</td>\n      <td>21</td>\n      <td>1</td>\n      <td>11.33</td>\n      <td>REFURBISHED_A_PLUS</td>\n      <td>A</td>\n      <td>True</td>\n      <td>NaN</td>\n      <td>NaN</td>\n      <td>2</td>\n    </tr>\n    <tr>\n      <th>42306</th>\n      <td>3228</td>\n      <td>326777</td>\n      <td>S3527718</td>\n      <td>6.265745e+12</td>\n      <td>0.105</td>\n      <td>13.37</td>\n      <td>6.82</td>\n      <td>10.96</td>\n      <td>2022-03-08 18:36:15</td>\n      <td>2620</td>\n      <td>...</td>\n      <td>True</td>\n      <td>21</td>\n      <td>1</td>\n      <td>10.08</td>\n      <td>REFURBISHED_B</td>\n      <td>A</td>\n      <td>True</td>\n      <td>NaN</td>\n      <td>NaN</td>\n      <td>2</td>\n    </tr>\n    <tr>\n      <th>42694</th>\n      <td>3228</td>\n      <td>354100</td>\n      <td>S6501803</td>\n      <td>8.436034e+12</td>\n      <td>0.428</td>\n      <td>12.00</td>\n      <td>8.00</td>\n      <td>18.00</td>\n      <td>2022-07-22 05:40:16</td>\n      <td>2927</td>\n      <td>...</td>\n      <td>True</td>\n      <td>21</td>\n      <td>1</td>\n      <td>19.97</td>\n      <td>NEW</td>\n      <td>A</td>\n      <td>True</td>\n      <td>NaN</td>\n      <td>NaN</td>\n      <td>2</td>\n    </tr>\n    <tr>\n      <th>76716</th>\n      <td>14403</td>\n      <td>354129</td>\n      <td>S4259229</td>\n      <td>5.603928e+12</td>\n      <td>0.010</td>\n      <td>7.66</td>\n      <td>8.24</td>\n      <td>7.72</td>\n      <td>2022-07-23 05:30:11</td>\n      <td>2546</td>\n      <td>...</td>\n      <td>True</td>\n      <td>21</td>\n      <td>1</td>\n      <td>7.11</td>\n      <td>NEW</td>\n      <td>A</td>\n      <td>True</td>\n      <td>NaN</td>\n      <td>NaN</td>\n      <td>2</td>\n    </tr>\n    <tr>\n      <th>76719</th>\n      <td>14403</td>\n      <td>354132</td>\n      <td>S4259230</td>\n      <td>5.600463e+12</td>\n      <td>0.010</td>\n      <td>7.66</td>\n      <td>8.24</td>\n      <td>7.72</td>\n      <td>2022-07-23 05:30:11</td>\n      <td>2546</td>\n      <td>...</td>\n      <td>True</td>\n      <td>21</td>\n      <td>1</td>\n      <td>7.11</td>\n      <td>NEW</td>\n      <td>A</td>\n      <td>True</td>\n      <td>NaN</td>\n      <td>NaN</td>\n      <td>2</td>\n    </tr>\n    <tr>\n      <th>76721</th>\n      <td>14403</td>\n      <td>354134</td>\n      <td>S4259228</td>\n      <td>5.603928e+12</td>\n      <td>0.010</td>\n      <td>7.66</td>\n      <td>8.24</td>\n      <td>7.72</td>\n      <td>2022-07-23 05:30:11</td>\n      <td>2546</td>\n      <td>...</td>\n      <td>True</td>\n      <td>21</td>\n      <td>1</td>\n      <td>7.11</td>\n      <td>NEW</td>\n      <td>A</td>\n      <td>True</td>\n      <td>NaN</td>\n      <td>NaN</td>\n      <td>2</td>\n    </tr>\n  </tbody>\n</table>\n<p>22 rows × 30 columns</p>\n</div>"
     },
     "execution_count": 83,
     "metadata": {},
     "output_type": "execute_result"
    }
   ],
   "source": [
    "df[df['size'] != 1]"
   ],
   "metadata": {
    "collapsed": false,
    "pycharm": {
     "name": "#%%\n"
    }
   }
  },
  {
   "cell_type": "code",
   "execution_count": 84,
   "outputs": [
    {
     "data": {
      "text/plain": "22"
     },
     "execution_count": 84,
     "metadata": {},
     "output_type": "execute_result"
    }
   ],
   "source": [
    "len(df[df['size'] != 1])"
   ],
   "metadata": {
    "collapsed": false,
    "pycharm": {
     "name": "#%%\n"
    }
   }
  },
  {
   "cell_type": "code",
   "execution_count": 84,
   "outputs": [],
   "source": [],
   "metadata": {
    "collapsed": false,
    "pycharm": {
     "name": "#%%\n"
    }
   }
  }
 ],
 "metadata": {
  "kernelspec": {
   "display_name": "Python 3",
   "language": "python",
   "name": "python3"
  },
  "language_info": {
   "codemirror_mode": {
    "name": "ipython",
    "version": 2
   },
   "file_extension": ".py",
   "mimetype": "text/x-python",
   "name": "python",
   "nbconvert_exporter": "python",
   "pygments_lexer": "ipython2",
   "version": "2.7.6"
  }
 },
 "nbformat": 4,
 "nbformat_minor": 0
}