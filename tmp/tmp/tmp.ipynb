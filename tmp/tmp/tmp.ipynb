{
 "cells": [
  {
   "cell_type": "code",
   "execution_count": 15,
   "outputs": [],
   "source": [
    "import pandas as pd\n",
    "pd.set_option('display.float_format', lambda x: '%.5f' % x)"
   ],
   "metadata": {
    "collapsed": false,
    "pycharm": {
     "name": "#%%\n"
    }
   }
  },
  {
   "cell_type": "code",
   "execution_count": 16,
   "outputs": [],
   "source": [
    "df = pd.read_pickle('/Users/peter/PycharmProjects/full_bol/mainapp/microservice_supplier/files/bigbuy/cleaned/products.pkl')"
   ],
   "metadata": {
    "collapsed": false,
    "pycharm": {
     "name": "#%%\n"
    }
   }
  },
  {
   "cell_type": "code",
   "execution_count": 17,
   "outputs": [],
   "source": [
    "df = pd.DataFrame.from_records(df)"
   ],
   "metadata": {
    "collapsed": false,
    "pycharm": {
     "name": "#%%\n"
    }
   }
  },
  {
   "cell_type": "code",
   "execution_count": 18,
   "outputs": [
    {
     "data": {
      "text/plain": "       id     artnr                                               name  \\\n0  213917  S4600034                Yoghurt ¡Mi Merienda! Hero (100 gr)   \n1  213919  S4600033  Babyvoeding Hero Buenas Noches Banaan Pera Ora...   \n2  213929  S4600035  Babyvoeding Hero Buenas Noches Pavo Verduras (...   \n3  213930  S4600036  Babyvoeding Hero Buenas Noches Zeeduivel Groen...   \n4  213931  S4600037  Babyvoeding Hero Buenas Noches Ham Doperwten (...   \n\n      category                 ean  \n0  Babyvoeding 8410175044860.00000  \n1  Babyvoeding 8410175066022.00000  \n2  Babyvoeding 8410175033222.00000  \n3  Babyvoeding 8410175033215.00000  \n4  Babyvoeding 8410175014207.00000  ",
      "text/html": "<div>\n<style scoped>\n    .dataframe tbody tr th:only-of-type {\n        vertical-align: middle;\n    }\n\n    .dataframe tbody tr th {\n        vertical-align: top;\n    }\n\n    .dataframe thead th {\n        text-align: right;\n    }\n</style>\n<table border=\"1\" class=\"dataframe\">\n  <thead>\n    <tr style=\"text-align: right;\">\n      <th></th>\n      <th>id</th>\n      <th>artnr</th>\n      <th>name</th>\n      <th>category</th>\n      <th>ean</th>\n    </tr>\n  </thead>\n  <tbody>\n    <tr>\n      <th>0</th>\n      <td>213917</td>\n      <td>S4600034</td>\n      <td>Yoghurt ¡Mi Merienda! Hero (100 gr)</td>\n      <td>Babyvoeding</td>\n      <td>8410175044860.00000</td>\n    </tr>\n    <tr>\n      <th>1</th>\n      <td>213919</td>\n      <td>S4600033</td>\n      <td>Babyvoeding Hero Buenas Noches Banaan Pera Ora...</td>\n      <td>Babyvoeding</td>\n      <td>8410175066022.00000</td>\n    </tr>\n    <tr>\n      <th>2</th>\n      <td>213929</td>\n      <td>S4600035</td>\n      <td>Babyvoeding Hero Buenas Noches Pavo Verduras (...</td>\n      <td>Babyvoeding</td>\n      <td>8410175033222.00000</td>\n    </tr>\n    <tr>\n      <th>3</th>\n      <td>213930</td>\n      <td>S4600036</td>\n      <td>Babyvoeding Hero Buenas Noches Zeeduivel Groen...</td>\n      <td>Babyvoeding</td>\n      <td>8410175033215.00000</td>\n    </tr>\n    <tr>\n      <th>4</th>\n      <td>213931</td>\n      <td>S4600037</td>\n      <td>Babyvoeding Hero Buenas Noches Ham Doperwten (...</td>\n      <td>Babyvoeding</td>\n      <td>8410175014207.00000</td>\n    </tr>\n  </tbody>\n</table>\n</div>"
     },
     "execution_count": 18,
     "metadata": {},
     "output_type": "execute_result"
    }
   ],
   "source": [
    "df.head()"
   ],
   "metadata": {
    "collapsed": false,
    "pycharm": {
     "name": "#%%\n"
    }
   }
  },
  {
   "cell_type": "code",
   "execution_count": null,
   "outputs": [],
   "source": [
    "df.info()"
   ],
   "metadata": {
    "collapsed": false,
    "pycharm": {
     "name": "#%%\n"
    }
   }
  },
  {
   "cell_type": "code",
   "execution_count": null,
   "outputs": [],
   "source": [
    "df.drop(columns='priceLargeQuantities', inplace=True)"
   ],
   "metadata": {
    "collapsed": false,
    "pycharm": {
     "name": "#%%\n"
    }
   }
  },
  {
   "cell_type": "code",
   "execution_count": null,
   "outputs": [],
   "source": [
    "df.shape"
   ],
   "metadata": {
    "collapsed": false,
    "pycharm": {
     "name": "#%%\n"
    }
   }
  },
  {
   "cell_type": "code",
   "execution_count": null,
   "outputs": [],
   "source": [
    "df.info()"
   ],
   "metadata": {
    "collapsed": false,
    "pycharm": {
     "name": "#%%\n"
    }
   }
  },
  {
   "cell_type": "code",
   "execution_count": null,
   "outputs": [],
   "source": [
    "df.describe()"
   ],
   "metadata": {
    "collapsed": false,
    "pycharm": {
     "name": "#%%\n"
    }
   }
  },
  {
   "cell_type": "code",
   "execution_count": null,
   "outputs": [],
   "source": [
    "df.columns"
   ],
   "metadata": {
    "collapsed": false,
    "pycharm": {
     "name": "#%%\n"
    }
   }
  },
  {
   "cell_type": "code",
   "execution_count": null,
   "outputs": [],
   "source": [
    "df.dtypes"
   ],
   "metadata": {
    "collapsed": false,
    "pycharm": {
     "name": "#%%\n"
    }
   }
  },
  {
   "cell_type": "code",
   "execution_count": null,
   "outputs": [],
   "source": [
    "df.isnull().sum()"
   ],
   "metadata": {
    "collapsed": false,
    "pycharm": {
     "name": "#%%\n"
    }
   }
  },
  {
   "cell_type": "code",
   "execution_count": null,
   "outputs": [],
   "source": [],
   "metadata": {
    "collapsed": false,
    "pycharm": {
     "name": "#%%\n"
    }
   }
  },
  {
   "cell_type": "markdown",
   "source": [],
   "metadata": {
    "collapsed": false,
    "pycharm": {
     "name": "#%% md\n"
    }
   }
  },
  {
   "cell_type": "code",
   "execution_count": null,
   "outputs": [],
   "source": [
    "df = df.groupby(df.columns.tolist(), as_index=False, dropna=False).size()"
   ],
   "metadata": {
    "collapsed": false,
    "pycharm": {
     "name": "#%%\n"
    }
   }
  },
  {
   "cell_type": "code",
   "execution_count": null,
   "outputs": [],
   "source": [
    "df[df['size'] != 1]"
   ],
   "metadata": {
    "collapsed": false,
    "pycharm": {
     "name": "#%%\n"
    }
   }
  },
  {
   "cell_type": "code",
   "execution_count": null,
   "outputs": [],
   "source": [
    "len(df[df['size'] != 1])"
   ],
   "metadata": {
    "collapsed": false,
    "pycharm": {
     "name": "#%%\n"
    }
   }
  },
  {
   "cell_type": "code",
   "execution_count": 1,
   "outputs": [
    {
     "name": "stdout",
     "output_type": "stream",
     "text": [
      "26.99\n"
     ]
    }
   ],
   "source": [
    "import math\n",
    "import numpy as np\n",
    "\n",
    "def calculate_sellprice(purchaseprice):\n",
    "    # Todo: fix this ugly bugfix properly, I implemented it because we sometimes do not get a b2b price, for example\n",
    "    # when updating the prices, and we only get a b2c price\n",
    "    if math.isnan(purchaseprice):\n",
    "        return np.nan\n",
    "\n",
    "    bol_commission = 0.15\n",
    "    profit_margin = 0.1\n",
    "    tax_percentage = 0.21\n",
    "    return_percentage = 0.03\n",
    "\n",
    "    shipping_cost = 9.00\n",
    "\n",
    "    sell_price = (purchaseprice + shipping_cost + 1) / (\n",
    "                1 - bol_commission - profit_margin - tax_percentage - return_percentage)\n",
    "    rounded_sell_price = math.ceil(sell_price) - 0.01\n",
    "\n",
    "    return rounded_sell_price\n",
    "\n",
    "print(calculate_sellprice(3.44))"
   ],
   "metadata": {
    "collapsed": false,
    "pycharm": {
     "name": "#%%\n"
    }
   }
  },
  {
   "cell_type": "code",
   "execution_count": null,
   "outputs": [],
   "source": [],
   "metadata": {
    "collapsed": false,
    "pycharm": {
     "name": "#%%\n"
    }
   }
  }
 ],
 "metadata": {
  "kernelspec": {
   "display_name": "Python 3",
   "language": "python",
   "name": "python3"
  },
  "language_info": {
   "codemirror_mode": {
    "name": "ipython",
    "version": 2
   },
   "file_extension": ".py",
   "mimetype": "text/x-python",
   "name": "python",
   "nbconvert_exporter": "python",
   "pygments_lexer": "ipython2",
   "version": "2.7.6"
  }
 },
 "nbformat": 4,
 "nbformat_minor": 0
}