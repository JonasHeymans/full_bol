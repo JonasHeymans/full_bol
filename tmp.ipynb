{
 "cells": [
  {
   "cell_type": "code",
   "execution_count": 24,
   "outputs": [],
   "source": [
    "import pandas as pd"
   ],
   "metadata": {
    "collapsed": false,
    "pycharm": {
     "name": "#%%\n"
    }
   }
  },
  {
   "cell_type": "code",
   "execution_count": 25,
   "outputs": [],
   "source": [
    "bibu = pd.read_pickle(\"/Users/peter/PycharmProjects/full_bol/mainapp/microservice_supplier/files/bigbuy/dict/products.pkl\")\n",
    "edc = pd.read_pickle(\"/Users/peter/PycharmProjects/full_bol/mainapp/microservice_supplier/files/edc/dict/full.pkl\")"
   ],
   "metadata": {
    "collapsed": false,
    "pycharm": {
     "name": "#%%\n"
    }
   }
  },
  {
   "cell_type": "code",
   "execution_count": 26,
   "outputs": [
    {
     "data": {
      "text/plain": "OrderedDict([('variant',\n              OrderedDict([('id', '34711'),\n                           ('type', None),\n                           ('subartnr', 'ae178'),\n                           ('ean', '848518016874'),\n                           ('stock', 'Y'),\n                           ('stockestimate', '100')]))])"
     },
     "execution_count": 26,
     "metadata": {},
     "output_type": "execute_result"
    }
   ],
   "source": [
    "edc[3]['variants']\n"
   ],
   "metadata": {
    "collapsed": false,
    "pycharm": {
     "name": "#%%\n"
    }
   }
  },
  {
   "cell_type": "code",
   "execution_count": 27,
   "outputs": [
    {
     "data": {
      "text/plain": "dict_keys(['manufacturer', 'id', 'artnr', 'ean13', 'weight', 'height', 'width', 'depth', 'dateUpd', 'category', 'dateUpdDescription', 'dateUpdStock', 'wholesalePrice', 'retailPrice', 'dateAdd', 'video', 'active', 'attributes', 'categories', 'images', 'taxRate', 'taxId', 'inShopsPrice', 'condition', 'logisticClass', 'tags', 'dateUpdImages', 'priceLargeQuantities'])"
     },
     "execution_count": 27,
     "metadata": {},
     "output_type": "execute_result"
    }
   ],
   "source": [
    "bibu[0].keys()"
   ],
   "metadata": {
    "collapsed": false,
    "pycharm": {
     "name": "#%%\n"
    }
   }
  },
  {
   "cell_type": "code",
   "execution_count": 28,
   "outputs": [
    {
     "data": {
      "text/plain": "10319"
     },
     "execution_count": 28,
     "metadata": {},
     "output_type": "execute_result"
    }
   ],
   "source": [
    "len(bibu)"
   ],
   "metadata": {
    "collapsed": false,
    "pycharm": {
     "name": "#%%\n"
    }
   }
  },
  {
   "cell_type": "code",
   "execution_count": 28,
   "outputs": [],
   "source": [],
   "metadata": {
    "collapsed": false,
    "pycharm": {
     "name": "#%%\n"
    }
   }
  }
 ],
 "metadata": {
  "kernelspec": {
   "display_name": "Python 3",
   "language": "python",
   "name": "python3"
  },
  "language_info": {
   "codemirror_mode": {
    "name": "ipython",
    "version": 2
   },
   "file_extension": ".py",
   "mimetype": "text/x-python",
   "name": "python",
   "nbconvert_exporter": "python",
   "pygments_lexer": "ipython2",
   "version": "2.7.6"
  }
 },
 "nbformat": 4,
 "nbformat_minor": 0
}